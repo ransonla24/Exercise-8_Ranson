{
 "cells": [
  {
   "cell_type": "markdown",
   "metadata": {},
   "source": [
    "### Exercise 1\n",
    "Ask for an exam score and store that number. If the number is greater than 100, then print out 'You cannot have an exam score higher than 100'. If the number doesn't exceeed 100 but is greater than or equal to 75, then print out 'You did great on your exam!'. Otherwise if they scored lower than 75, then print out 'You need to study harder'."
   ]
  },
  {
   "cell_type": "code",
   "execution_count": 3,
   "metadata": {},
   "outputs": [
    {
     "name": "stdin",
     "output_type": "stream",
     "text": [
      "Exam score:  65\n"
     ]
    },
    {
     "name": "stdout",
     "output_type": "stream",
     "text": [
      "You need to study harder.\n"
     ]
    }
   ],
   "source": [
    "exam_score = int(input(\"Exam score: \"))\n",
    "\n",
    "if exam_score > 100 :\n",
    "    print(\"You cannot have an exam score higher than 100.\")\n",
    "elif exam_score >= 75 : \n",
    "    print(\"You did great on your exam!\")\n",
    "else : \n",
    "    print(\"You need to study harder.\")\n"
   ]
  },
  {
   "cell_type": "code",
   "execution_count": null,
   "metadata": {},
   "outputs": [],
   "source": []
  },
  {
   "cell_type": "markdown",
   "metadata": {},
   "source": [
    "### Exercise 2\n",
    "Ask a user to enter two numbers and find their average. Then, print out the average and whether each number is below or above average. Determine if a function should be created or not.\n",
    "    "
   ]
  },
  {
   "cell_type": "code",
   "execution_count": 16,
   "metadata": {},
   "outputs": [
    {
     "name": "stdin",
     "output_type": "stream",
     "text": [
      "Enter first number:  90\n",
      "Enter second number:  90\n"
     ]
    },
    {
     "name": "stdout",
     "output_type": "stream",
     "text": [
      "90.0\n",
      "90 is equal to the average score.\n",
      "90 is equal to the average score.\n"
     ]
    }
   ],
   "source": [
    "numb_1 = int(input(\"Enter first number: \"))\n",
    "numb_2 = int(input(\"Enter second number: \"))\n",
    "\n",
    "average = (numb_1 + numb_2)/2\n",
    "print(average)\n",
    "\n",
    "def conditional(x) :\n",
    "    global average\n",
    "    if x == average :\n",
    "        print(f\"{x} is equal to the average score.\")\n",
    "    elif x > average: \n",
    "        print(f\"{x} is greater than the average score.\")\n",
    "    else : \n",
    "        print(f\"{x} is less than the average score.\")\n",
    "\n",
    "conditional(numb_1)\n",
    "conditional(numb_2)"
   ]
  },
  {
   "cell_type": "code",
   "execution_count": null,
   "metadata": {},
   "outputs": [],
   "source": []
  },
  {
   "cell_type": "code",
   "execution_count": null,
   "metadata": {},
   "outputs": [],
   "source": []
  },
  {
   "cell_type": "markdown",
   "metadata": {},
   "source": [
    "### Exercise 3\n",
    "Write a function to convert a test score to a grade where  \n",
    " - 90 - 100: A\n",
    " - 80 - 89:  B\n",
    " - 70 - 79:  C\n",
    " - 60 - 69:  D\n",
    " - < 60   :  F\n",
    " \n",
    "If a score is not between 0 and 100 then print out an error message. In the program, ask the user for a score and then call your function. "
   ]
  },
  {
   "cell_type": "code",
   "execution_count": 24,
   "metadata": {},
   "outputs": [
    {
     "name": "stdin",
     "output_type": "stream",
     "text": [
      "Enter exam score:  101\n"
     ]
    },
    {
     "name": "stdout",
     "output_type": "stream",
     "text": [
      "Error. Score must be between 0 and 100\n"
     ]
    }
   ],
   "source": [
    "test_score = int(input(\"Enter exam score: \"))\n",
    "\n",
    "def grade_conversion (x) : \n",
    "    if x <= 100 and x >=90 : \n",
    "        print(\"A\")\n",
    "    elif x <=89 and x>=80 : \n",
    "        print(\"B\")\n",
    "    elif x <=79 and x>=70 : \n",
    "        print(\"C\")\n",
    "    elif x<= 69 and x>= 60 : \n",
    "        print(\"D\")\n",
    "    elif x<60 : \n",
    "        print(\"F\")\n",
    "    else: \n",
    "        print(\"Error. Score must be between 0 and 100\")\n",
    "\n",
    "grade_conversion(test_score)"
   ]
  },
  {
   "cell_type": "code",
   "execution_count": null,
   "metadata": {},
   "outputs": [],
   "source": []
  },
  {
   "cell_type": "code",
   "execution_count": null,
   "metadata": {},
   "outputs": [],
   "source": []
  },
  {
   "cell_type": "markdown",
   "metadata": {},
   "source": [
    "### Exercise 4\n",
    "Convert following decimal number to a binary number by hand:\n",
    "\n",
    "    61\n",
    "    15\n",
    "    71\n",
    "    "
   ]
  },
  {
   "cell_type": "code",
   "execution_count": 48,
   "metadata": {},
   "outputs": [
    {
     "name": "stdout",
     "output_type": "stream",
     "text": [
      "30 15 7 3 1 0\n"
     ]
    }
   ],
   "source": [
    "a = 61//2\n",
    "b = a//2\n",
    "c = b//2\n",
    "d = c//2\n",
    "e = d//2\n",
    "f = e//2\n",
    "print(a, b, c, d, e, f)"
   ]
  },
  {
   "cell_type": "code",
   "execution_count": 57,
   "metadata": {},
   "outputs": [
    {
     "name": "stdout",
     "output_type": "stream",
     "text": [
      "1 0 1 1 1 1\n"
     ]
    },
    {
     "data": {
      "text/plain": [
       "'0b111101'"
      ]
     },
     "execution_count": 57,
     "metadata": {},
     "output_type": "execute_result"
    }
   ],
   "source": [
    "g = 61%2\n",
    "h = 30%2\n",
    "i = 15%2\n",
    "j = 7%2\n",
    "k = 3%2\n",
    "l = 1%2\n",
    "\n",
    "print(g, h, i, j, k, l)\n",
    "\n",
    "bin(61)\n",
    "\n",
    "#Answer is 0b101111 => 0010 1111"
   ]
  },
  {
   "cell_type": "code",
   "execution_count": 47,
   "metadata": {},
   "outputs": [
    {
     "name": "stdout",
     "output_type": "stream",
     "text": [
      "7 3 1\n"
     ]
    }
   ],
   "source": [
    "a = 15//2\n",
    "b = a//2\n",
    "c = b//2\n",
    "\n",
    "print(a, b, c)"
   ]
  },
  {
   "cell_type": "code",
   "execution_count": 51,
   "metadata": {},
   "outputs": [
    {
     "name": "stdout",
     "output_type": "stream",
     "text": [
      "1 1 1 1\n"
     ]
    },
    {
     "data": {
      "text/plain": [
       "'0b1111'"
      ]
     },
     "execution_count": 51,
     "metadata": {},
     "output_type": "execute_result"
    }
   ],
   "source": [
    "g = 15%2\n",
    "h = 7%2\n",
    "i = 3%2\n",
    "j = 1%2\n",
    "\n",
    "print(g, h, i, j) # answer is 0b1111 => 0000 1111\n",
    "\n",
    "bin(15)"
   ]
  },
  {
   "cell_type": "code",
   "execution_count": 55,
   "metadata": {},
   "outputs": [
    {
     "name": "stdout",
     "output_type": "stream",
     "text": [
      "35 17 8 4 2 1\n"
     ]
    }
   ],
   "source": [
    "a = 71//2\n",
    "b = a//2\n",
    "c = b//2\n",
    "d = c//2\n",
    "e = d//2\n",
    "f = e//2\n",
    "print(a, b, c, d, e, f)"
   ]
  },
  {
   "cell_type": "code",
   "execution_count": 58,
   "metadata": {},
   "outputs": [
    {
     "name": "stdout",
     "output_type": "stream",
     "text": [
      "1 1 1 0 0 0 1\n"
     ]
    },
    {
     "data": {
      "text/plain": [
       "'0b1000111'"
      ]
     },
     "execution_count": 58,
     "metadata": {},
     "output_type": "execute_result"
    }
   ],
   "source": [
    "g = 71%2\n",
    "h = 35%2\n",
    "i = 17%2\n",
    "j = 8%2\n",
    "k = 4%2\n",
    "l = 2%2\n",
    "m = 1%2\n",
    "\n",
    "print(g, h, i, j, k, l, m)\n",
    "\n",
    "# answer 0b1110001 => 0111 0001\n",
    "\n",
    "bin(71)"
   ]
  },
  {
   "cell_type": "markdown",
   "metadata": {},
   "source": [
    "### Exercise 5\n",
    "When a = 61 and b = 15, what is the result of following bitwise opertion? Use inline comments to show your result in a binary number. Find your answer by hand.\n",
    "\n",
    "    a & b\n",
    "    a | b\n",
    "    a ^ b\n",
    "    a >> 2\n",
    "    "
   ]
  },
  {
   "cell_type": "code",
   "execution_count": 25,
   "metadata": {},
   "outputs": [
    {
     "data": {
      "text/plain": [
       "13"
      ]
     },
     "execution_count": 25,
     "metadata": {},
     "output_type": "execute_result"
    }
   ],
   "source": [
    "# 61 => 0011 1101\n",
    "# 15 => 0000 1111\n",
    "\n",
    "61 & 15  \n",
    "\n",
    "# answer => 0000 1101"
   ]
  },
  {
   "cell_type": "code",
   "execution_count": 29,
   "metadata": {},
   "outputs": [
    {
     "data": {
      "text/plain": [
       "63"
      ]
     },
     "execution_count": 29,
     "metadata": {},
     "output_type": "execute_result"
    }
   ],
   "source": [
    "# 61 => 0011 1101\n",
    "# 15 => 0000 1111\n",
    "\n",
    "# answer => 0011 1111\n",
    "\n",
    "61 | 15"
   ]
  },
  {
   "cell_type": "code",
   "execution_count": 34,
   "metadata": {},
   "outputs": [
    {
     "name": "stdout",
     "output_type": "stream",
     "text": [
      "50\n",
      "0b110010\n"
     ]
    }
   ],
   "source": [
    "# 61 => 0011 1101\n",
    "# 15 => 0000 1111\n",
    "\n",
    "# answer => 0011 0010\n",
    "\n",
    "print(61^15)\n",
    "print(bin(50))"
   ]
  },
  {
   "cell_type": "code",
   "execution_count": 35,
   "metadata": {},
   "outputs": [
    {
     "data": {
      "text/plain": [
       "15"
      ]
     },
     "execution_count": 35,
     "metadata": {},
     "output_type": "execute_result"
    }
   ],
   "source": [
    "# 61 => 0011 1101\n",
    "\n",
    "# answer => 0000 1111\n",
    "\n",
    "61>>2"
   ]
  },
  {
   "cell_type": "code",
   "execution_count": null,
   "metadata": {},
   "outputs": [],
   "source": []
  }
 ],
 "metadata": {
  "kernelspec": {
   "display_name": "Python 3 (ipykernel)",
   "language": "python",
   "name": "python3"
  },
  "language_info": {
   "codemirror_mode": {
    "name": "ipython",
    "version": 3
   },
   "file_extension": ".py",
   "mimetype": "text/x-python",
   "name": "python",
   "nbconvert_exporter": "python",
   "pygments_lexer": "ipython3",
   "version": "3.11.7"
  }
 },
 "nbformat": 4,
 "nbformat_minor": 4
}
